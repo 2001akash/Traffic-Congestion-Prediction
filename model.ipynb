{
  "cells": [
    {
      "cell_type": "markdown",
      "metadata": {
        "id": "LsSkRNhOjjNA"
      },
      "source": [
        "##Importing all the libraries"
      ]
    },
    {
      "cell_type": "code",
      "execution_count": 2,
      "metadata": {
        "id": "iAiBXje8jNcY"
      },
      "outputs": [
        {
          "name": "stdout",
          "output_type": "stream",
          "text": [
            "Requirement already satisfied: flask in c:\\python311\\lib\\site-packages (3.0.3)\n",
            "Requirement already satisfied: Werkzeug>=3.0.0 in c:\\python311\\lib\\site-packages (from flask) (3.0.1)\n",
            "Requirement already satisfied: Jinja2>=3.1.2 in c:\\python311\\lib\\site-packages (from flask) (3.1.3)\n",
            "Requirement already satisfied: itsdangerous>=2.1.2 in c:\\python311\\lib\\site-packages (from flask) (2.2.0)\n",
            "Requirement already satisfied: click>=8.1.3 in c:\\python311\\lib\\site-packages (from flask) (8.1.7)\n",
            "Requirement already satisfied: blinker>=1.6.2 in c:\\python311\\lib\\site-packages (from flask) (1.7.0)\n",
            "Requirement already satisfied: colorama in c:\\users\\hp\\appdata\\roaming\\python\\python311\\site-packages (from click>=8.1.3->flask) (0.4.6)\n",
            "Requirement already satisfied: MarkupSafe>=2.0 in c:\\python311\\lib\\site-packages (from Jinja2>=3.1.2->flask) (2.1.3)\n"
          ]
        },
        {
          "name": "stderr",
          "output_type": "stream",
          "text": [
            "\n",
            "[notice] A new release of pip is available: 23.1.2 -> 24.0\n",
            "[notice] To update, run: python.exe -m pip install --upgrade pip\n"
          ]
        },
        {
          "name": "stdout",
          "output_type": "stream",
          "text": [
            "Requirement already satisfied: seaborn in c:\\python311\\lib\\site-packages (0.13.2)\n",
            "Requirement already satisfied: numpy!=1.24.0,>=1.20 in c:\\python311\\lib\\site-packages (from seaborn) (1.26.1)\n",
            "Requirement already satisfied: pandas>=1.2 in c:\\python311\\lib\\site-packages (from seaborn) (2.2.2)\n",
            "Requirement already satisfied: matplotlib!=3.6.1,>=3.4 in c:\\python311\\lib\\site-packages (from seaborn) (3.8.1)\n",
            "Requirement already satisfied: contourpy>=1.0.1 in c:\\python311\\lib\\site-packages (from matplotlib!=3.6.1,>=3.4->seaborn) (1.1.1)\n",
            "Requirement already satisfied: cycler>=0.10 in c:\\python311\\lib\\site-packages (from matplotlib!=3.6.1,>=3.4->seaborn) (0.12.1)\n",
            "Requirement already satisfied: fonttools>=4.22.0 in c:\\python311\\lib\\site-packages (from matplotlib!=3.6.1,>=3.4->seaborn) (4.43.1)\n",
            "Requirement already satisfied: kiwisolver>=1.3.1 in c:\\python311\\lib\\site-packages (from matplotlib!=3.6.1,>=3.4->seaborn) (1.4.5)\n",
            "Requirement already satisfied: packaging>=20.0 in c:\\python311\\lib\\site-packages (from matplotlib!=3.6.1,>=3.4->seaborn) (23.2)\n",
            "Requirement already satisfied: pillow>=8 in c:\\python311\\lib\\site-packages (from matplotlib!=3.6.1,>=3.4->seaborn) (10.1.0)\n",
            "Requirement already satisfied: pyparsing>=2.3.1 in c:\\python311\\lib\\site-packages (from matplotlib!=3.6.1,>=3.4->seaborn) (3.1.1)\n",
            "Requirement already satisfied: python-dateutil>=2.7 in c:\\python311\\lib\\site-packages (from matplotlib!=3.6.1,>=3.4->seaborn) (2.8.2)\n",
            "Requirement already satisfied: pytz>=2020.1 in c:\\python311\\lib\\site-packages (from pandas>=1.2->seaborn) (2024.1)\n",
            "Requirement already satisfied: tzdata>=2022.7 in c:\\python311\\lib\\site-packages (from pandas>=1.2->seaborn) (2024.1)\n",
            "Requirement already satisfied: six>=1.5 in c:\\python311\\lib\\site-packages (from python-dateutil>=2.7->matplotlib!=3.6.1,>=3.4->seaborn) (1.16.0)\n"
          ]
        },
        {
          "name": "stderr",
          "output_type": "stream",
          "text": [
            "\n",
            "[notice] A new release of pip is available: 23.1.2 -> 24.0\n",
            "[notice] To update, run: python.exe -m pip install --upgrade pip\n"
          ]
        }
      ],
      "source": [
        "!pip install flask\n",
        "!pip install seaborn"
      ]
    },
    {
      "cell_type": "code",
      "execution_count": 3,
      "metadata": {},
      "outputs": [],
      "source": [
        "from sklearn.preprocessing import OneHotEncoder\n",
        "from flask import Flask, render_template, request\n",
        "from sklearn.preprocessing import StandardScaler, MinMaxScaler\n",
        "#from scipy.stats import zscore\n",
        "# from sklearn.ensemble import StackingRegressor\n",
        "from sklearn.neural_network import MLPRegressor\n",
        "# from sklearn.svm import SVR\n",
        "import seaborn as sns\n",
        "import warnings\n",
        "import matplotlib.pyplot as plt\n",
        "import numpy as np\n",
        "import pandas as pd\n",
        "from datetime import datetime, timedelta"
      ]
    },
    {
      "cell_type": "code",
      "execution_count": 4,
      "metadata": {
        "id": "dq2pIf67jMpn"
      },
      "outputs": [],
      "source": [
        "def posix_time(dt):\n",
        "    return (dt - datetime(1970, 1, 1)) / timedelta(seconds=1)"
      ]
    },
    {
      "cell_type": "markdown",
      "metadata": {
        "id": "iCNXod0ZkJ4l"
      },
      "source": [
        "\n",
        "\n",
        "#importing the dataset\n",
        "\n",
        "\n"
      ]
    },
    {
      "cell_type": "code",
      "execution_count": 6,
      "metadata": {
        "id": "H7XjquU6j-KQ"
      },
      "outputs": [],
      "source": [
        "#data = pd.read_csv(r'C:\\Users\\hp\\Downloads\\Traffic Prediction\\\\static\\Train.csv')\n",
        "data = pd.read_csv('static/Train.csv')\n",
        "\n"
      ]
    },
    {
      "cell_type": "markdown",
      "metadata": {
        "id": "9PNQWiw1k-BP"
      },
      "source": [
        "#taking the required features or columns\n",
        "Collecting the data\n"
      ]
    },
    {
      "cell_type": "code",
      "execution_count": 7,
      "metadata": {
        "id": "ymQOLB8pj985"
      },
      "outputs": [],
      "source": [
        "data = data.sort_values(\n",
        "    by=['date_time'], ascending=True).reset_index(drop=True)\n",
        "last_n_hours = [1, 2, 3, 4, 5, 6]\n",
        "for n in last_n_hours:\n",
        "    data[f'last_{n}_hour_traffic'] = data['traffic_volume'].shift(n)\n",
        "data = data.dropna().reset_index(drop=True)\n",
        "data.loc[data['is_holiday'] != 'None', 'is_holiday'] = 1\n",
        "data.loc[data['is_holiday'] == 'None', 'is_holiday'] = 0\n",
        "data['is_holiday'] = data['is_holiday'].astype(int)\n",
        "\n",
        "data['date_time'] = pd.to_datetime(data['date_time'])\n",
        "data['hour'] = data['date_time'].map(lambda x: int(x.strftime(\"%H\")))\n",
        "data['month_day'] = data['date_time'].map(lambda x: int(x.strftime(\"%d\")))\n",
        "data['weekday'] = data['date_time'].map(lambda x: x.weekday()+1)\n",
        "data['month'] = data['date_time'].map(lambda x: int(x.strftime(\"%m\")))\n",
        "data['year'] = data['date_time'].map(lambda x: int(x.strftime(\"%Y\")))\n",
        "data.to_csv(\"traffic_volume_data.csv\", index=None)"
      ]
    },
    {
      "cell_type": "code",
      "execution_count": 8,
      "metadata": {
        "id": "wt42TIeOkiqb"
      },
      "outputs": [],
      "source": [
        "sns.set()\n",
        "plt.rcParams['font.sans-serif'] = ['SimHei']\n",
        "plt.rcParams['axes.unicode_minus'] = False\n",
        "warnings.filterwarnings('ignore')\n",
        "data = pd.read_csv(\"traffic_volume_data.csv\")\n",
        "data = data.sample(10000, replace=True).reset_index(drop=True)\n",
        "label_columns = ['weather_type', 'weather_description']\n",
        "numeric_columns = ['is_holiday', 'temperature',\n",
        "                       'weekday', 'hour', 'month_day', 'year', 'month']"
      ]
    },
    {
      "cell_type": "code",
      "execution_count": 9,
      "metadata": {
        "id": "FJbPBfWL38aa"
      },
      "outputs": [
        {
          "data": {
            "text/html": [
              "<div>\n",
              "<style scoped>\n",
              "    .dataframe tbody tr th:only-of-type {\n",
              "        vertical-align: middle;\n",
              "    }\n",
              "\n",
              "    .dataframe tbody tr th {\n",
              "        vertical-align: top;\n",
              "    }\n",
              "\n",
              "    .dataframe thead th {\n",
              "        text-align: right;\n",
              "    }\n",
              "</style>\n",
              "<table border=\"1\" class=\"dataframe\">\n",
              "  <thead>\n",
              "    <tr style=\"text-align: right;\">\n",
              "      <th></th>\n",
              "      <th>is_holiday</th>\n",
              "      <th>temperature</th>\n",
              "      <th>weekday</th>\n",
              "      <th>hour</th>\n",
              "      <th>month_day</th>\n",
              "      <th>year</th>\n",
              "      <th>month</th>\n",
              "      <th>weather_type</th>\n",
              "      <th>weather_description</th>\n",
              "    </tr>\n",
              "  </thead>\n",
              "  <tbody>\n",
              "    <tr>\n",
              "      <th>0</th>\n",
              "      <td>1</td>\n",
              "      <td>258.96</td>\n",
              "      <td>1</td>\n",
              "      <td>0</td>\n",
              "      <td>18</td>\n",
              "      <td>2013</td>\n",
              "      <td>2</td>\n",
              "      <td>Clouds</td>\n",
              "      <td>few clouds</td>\n",
              "    </tr>\n",
              "    <tr>\n",
              "      <th>1</th>\n",
              "      <td>1</td>\n",
              "      <td>288.38</td>\n",
              "      <td>1</td>\n",
              "      <td>0</td>\n",
              "      <td>30</td>\n",
              "      <td>2016</td>\n",
              "      <td>5</td>\n",
              "      <td>Mist</td>\n",
              "      <td>mist</td>\n",
              "    </tr>\n",
              "    <tr>\n",
              "      <th>2</th>\n",
              "      <td>1</td>\n",
              "      <td>271.79</td>\n",
              "      <td>1</td>\n",
              "      <td>0</td>\n",
              "      <td>20</td>\n",
              "      <td>2014</td>\n",
              "      <td>1</td>\n",
              "      <td>Clouds</td>\n",
              "      <td>broken clouds</td>\n",
              "    </tr>\n",
              "    <tr>\n",
              "      <th>3</th>\n",
              "      <td>1</td>\n",
              "      <td>293.17</td>\n",
              "      <td>1</td>\n",
              "      <td>0</td>\n",
              "      <td>5</td>\n",
              "      <td>2016</td>\n",
              "      <td>9</td>\n",
              "      <td>Thunderstorm</td>\n",
              "      <td>proximity thunderstorm</td>\n",
              "    </tr>\n",
              "    <tr>\n",
              "      <th>4</th>\n",
              "      <td>1</td>\n",
              "      <td>293.02</td>\n",
              "      <td>1</td>\n",
              "      <td>0</td>\n",
              "      <td>12</td>\n",
              "      <td>2015</td>\n",
              "      <td>10</td>\n",
              "      <td>Clear</td>\n",
              "      <td>sky is clear</td>\n",
              "    </tr>\n",
              "  </tbody>\n",
              "</table>\n",
              "</div>"
            ],
            "text/plain": [
              "   is_holiday  temperature  weekday  hour  month_day  year  month  \\\n",
              "0           1       258.96        1     0         18  2013      2   \n",
              "1           1       288.38        1     0         30  2016      5   \n",
              "2           1       271.79        1     0         20  2014      1   \n",
              "3           1       293.17        1     0          5  2016      9   \n",
              "4           1       293.02        1     0         12  2015     10   \n",
              "\n",
              "   weather_type     weather_description  \n",
              "0        Clouds              few clouds  \n",
              "1          Mist                    mist  \n",
              "2        Clouds           broken clouds  \n",
              "3  Thunderstorm  proximity thunderstorm  \n",
              "4         Clear            sky is clear  "
            ]
          },
          "execution_count": 9,
          "metadata": {},
          "output_type": "execute_result"
        }
      ],
      "source": [
        "features = numeric_columns+label_columns\n",
        "X = data[features]\n",
        "X.head()"
      ]
    },
    {
      "cell_type": "code",
      "execution_count": 10,
      "metadata": {
        "colab": {
          "base_uri": "https://localhost:8080/"
        },
        "id": "fsUSWcueQo4n",
        "outputId": "e81bdac3-0c70-41dd-9fd4-4d9a62176ea1"
      },
      "outputs": [
        {
          "data": {
            "text/plain": [
              "(10000, 9)"
            ]
          },
          "execution_count": 10,
          "metadata": {},
          "output_type": "execute_result"
        }
      ],
      "source": [
        "X.shape\n"
      ]
    },
    {
      "cell_type": "code",
      "execution_count": 11,
      "metadata": {
        "colab": {
          "base_uri": "https://localhost:8080/"
        },
        "id": "WOWCL-_Tl3wz",
        "outputId": "375b2b20-b514-42e1-cb17-3d1904a74cd7"
      },
      "outputs": [
        {
          "name": "stdout",
          "output_type": "stream",
          "text": [
            "['Clouds', 'Mist', 'Thunderstorm', 'Clear', 'Haze', 'Snow', 'Rain']\n",
            "['few clouds', 'mist', 'broken clouds', 'proximity thunderstorm', 'sky is clear', 'Sky is Clear', 'haze', 'overcast clouds', 'light snow', 'scattered clouds', 'light rain', 'moderate rain']\n"
          ]
        }
      ],
      "source": [
        "from functools import reduce\n",
        "def unique(list1):\n",
        "    ans = reduce(lambda re, x: re+[x] if x not in re else re, list1, [])\n",
        "    print(ans)\n",
        "\n",
        "n1 = data['weather_type']\n",
        "n2 = data['weather_description']\n",
        "unique(n1)\n",
        "unique(n2)\n",
        "n1features = ['Rain', 'Clouds', 'Clear', 'Snow', 'Mist',\n",
        "              'Drizzle', 'Haze', 'Thunderstorm', 'Fog', 'Smoke', 'Squall']\n",
        "n2features = ['light rain', 'few clouds', 'Sky is Clear', 'light snow', 'sky is clear', 'mist', 'broken clouds', 'moderate rain', 'drizzle', 'overcast clouds', 'scattered clouds', 'haze', 'proximity thunderstorm', 'light intensity drizzle', 'heavy snow', 'heavy intensity rain', 'fog', 'heavy intensity drizzle', 'shower snow', 'snow', 'thunderstorm with rain',\n",
        "              'thunderstorm with heavy rain', 'thunderstorm with light rain', 'proximity thunderstorm with rain', 'thunderstorm with drizzle', 'smoke', 'thunderstorm', 'proximity shower rain', 'very heavy rain', 'proximity thunderstorm with drizzle', 'light rain and snow', 'light intensity shower rain', 'SQUALLS', 'shower drizzle', 'thunderstorm with light drizzle']\n",
        "\"\"\"#Data Preparation\"\"\"\n",
        "\n",
        "n11 = []\n",
        "n22 = []\n",
        "for i in range(10000):\n",
        "    if(n1[i]) not in n1features:\n",
        "        n11.append(0)\n",
        "    else:\n",
        "        n11.append((n1features.index(n1[i]))+1)\n",
        "    if n2[i] not in n2features:\n",
        "        n22.append(0)\n",
        "    else:\n",
        "        n22.append((n2features.index(n2[i]))+1)\n",
        "# print(n11)\n",
        "# print(n22)\n",
        "data['weather_type'] = n11\n",
        "data['weather_description'] = n22\n"
      ]
    },
    {
      "cell_type": "markdown",
      "metadata": {
        "id": "jOp4AVpSlPEd"
      },
      "source": [
        "#Data Preparation"
      ]
    },
    {
      "cell_type": "code",
      "execution_count": 12,
      "metadata": {
        "id": "VCa_UE4-kiaX"
      },
      "outputs": [],
      "source": [
        "features = numeric_columns+label_columns\n",
        "target = ['traffic_volume']\n",
        "X = data[features]\n",
        "y = data[target]"
      ]
    },
    {
      "cell_type": "code",
      "execution_count": 13,
      "metadata": {
        "colab": {
          "base_uri": "https://localhost:8080/",
          "height": 301
        },
        "id": "39wMw-Ll1inC",
        "outputId": "73fd29fd-78d4-4f4e-f388-39e8133b6fc5"
      },
      "outputs": [
        {
          "data": {
            "text/html": [
              "<div>\n",
              "<style scoped>\n",
              "    .dataframe tbody tr th:only-of-type {\n",
              "        vertical-align: middle;\n",
              "    }\n",
              "\n",
              "    .dataframe tbody tr th {\n",
              "        vertical-align: top;\n",
              "    }\n",
              "\n",
              "    .dataframe thead th {\n",
              "        text-align: right;\n",
              "    }\n",
              "</style>\n",
              "<table border=\"1\" class=\"dataframe\">\n",
              "  <thead>\n",
              "    <tr style=\"text-align: right;\">\n",
              "      <th></th>\n",
              "      <th>is_holiday</th>\n",
              "      <th>temperature</th>\n",
              "      <th>weekday</th>\n",
              "      <th>hour</th>\n",
              "      <th>month_day</th>\n",
              "      <th>year</th>\n",
              "      <th>month</th>\n",
              "      <th>weather_type</th>\n",
              "      <th>weather_description</th>\n",
              "    </tr>\n",
              "  </thead>\n",
              "  <tbody>\n",
              "    <tr>\n",
              "      <th>0</th>\n",
              "      <td>1</td>\n",
              "      <td>258.96</td>\n",
              "      <td>1</td>\n",
              "      <td>0</td>\n",
              "      <td>18</td>\n",
              "      <td>2013</td>\n",
              "      <td>2</td>\n",
              "      <td>2</td>\n",
              "      <td>2</td>\n",
              "    </tr>\n",
              "    <tr>\n",
              "      <th>1</th>\n",
              "      <td>1</td>\n",
              "      <td>288.38</td>\n",
              "      <td>1</td>\n",
              "      <td>0</td>\n",
              "      <td>30</td>\n",
              "      <td>2016</td>\n",
              "      <td>5</td>\n",
              "      <td>5</td>\n",
              "      <td>6</td>\n",
              "    </tr>\n",
              "    <tr>\n",
              "      <th>2</th>\n",
              "      <td>1</td>\n",
              "      <td>271.79</td>\n",
              "      <td>1</td>\n",
              "      <td>0</td>\n",
              "      <td>20</td>\n",
              "      <td>2014</td>\n",
              "      <td>1</td>\n",
              "      <td>2</td>\n",
              "      <td>7</td>\n",
              "    </tr>\n",
              "    <tr>\n",
              "      <th>3</th>\n",
              "      <td>1</td>\n",
              "      <td>293.17</td>\n",
              "      <td>1</td>\n",
              "      <td>0</td>\n",
              "      <td>5</td>\n",
              "      <td>2016</td>\n",
              "      <td>9</td>\n",
              "      <td>8</td>\n",
              "      <td>13</td>\n",
              "    </tr>\n",
              "    <tr>\n",
              "      <th>4</th>\n",
              "      <td>1</td>\n",
              "      <td>293.02</td>\n",
              "      <td>1</td>\n",
              "      <td>0</td>\n",
              "      <td>12</td>\n",
              "      <td>2015</td>\n",
              "      <td>10</td>\n",
              "      <td>3</td>\n",
              "      <td>5</td>\n",
              "    </tr>\n",
              "    <tr>\n",
              "      <th>5</th>\n",
              "      <td>1</td>\n",
              "      <td>266.08</td>\n",
              "      <td>1</td>\n",
              "      <td>0</td>\n",
              "      <td>16</td>\n",
              "      <td>2017</td>\n",
              "      <td>1</td>\n",
              "      <td>5</td>\n",
              "      <td>6</td>\n",
              "    </tr>\n",
              "  </tbody>\n",
              "</table>\n",
              "</div>"
            ],
            "text/plain": [
              "   is_holiday  temperature  weekday  hour  month_day  year  month  \\\n",
              "0           1       258.96        1     0         18  2013      2   \n",
              "1           1       288.38        1     0         30  2016      5   \n",
              "2           1       271.79        1     0         20  2014      1   \n",
              "3           1       293.17        1     0          5  2016      9   \n",
              "4           1       293.02        1     0         12  2015     10   \n",
              "5           1       266.08        1     0         16  2017      1   \n",
              "\n",
              "   weather_type  weather_description  \n",
              "0             2                    2  \n",
              "1             5                    6  \n",
              "2             2                    7  \n",
              "3             8                   13  \n",
              "4             3                    5  \n",
              "5             5                    6  "
            ]
          },
          "execution_count": 13,
          "metadata": {},
          "output_type": "execute_result"
        }
      ],
      "source": [
        "X.head(6)"
      ]
    },
    {
      "cell_type": "code",
      "execution_count": 14,
      "metadata": {
        "colab": {
          "base_uri": "https://localhost:8080/",
          "height": 495
        },
        "id": "fjB2ZRjAmfWP",
        "outputId": "b15d6689-c1b4-44c4-e7b1-965c34a7fd9f"
      },
      "outputs": [
        {
          "name": "stderr",
          "output_type": "stream",
          "text": [
            "findfont: Generic family 'sans-serif' not found because none of the following families were found: SimHei\n",
            "findfont: Generic family 'sans-serif' not found because none of the following families were found: SimHei\n",
            "findfont: Generic family 'sans-serif' not found because none of the following families were found: SimHei\n",
            "findfont: Generic family 'sans-serif' not found because none of the following families were found: SimHei\n",
            "findfont: Generic family 'sans-serif' not found because none of the following families were found: SimHei\n",
            "findfont: Generic family 'sans-serif' not found because none of the following families were found: SimHei\n",
            "findfont: Generic family 'sans-serif' not found because none of the following families were found: SimHei\n",
            "findfont: Generic family 'sans-serif' not found because none of the following families were found: SimHei\n",
            "findfont: Generic family 'sans-serif' not found because none of the following families were found: SimHei\n",
            "findfont: Generic family 'sans-serif' not found because none of the following families were found: SimHei\n",
            "findfont: Generic family 'sans-serif' not found because none of the following families were found: SimHei\n",
            "findfont: Generic family 'sans-serif' not found because none of the following families were found: SimHei\n",
            "findfont: Generic family 'sans-serif' not found because none of the following families were found: SimHei\n",
            "findfont: Generic family 'sans-serif' not found because none of the following families were found: SimHei\n",
            "findfont: Generic family 'sans-serif' not found because none of the following families were found: SimHei\n",
            "findfont: Generic family 'sans-serif' not found because none of the following families were found: SimHei\n",
            "findfont: Generic family 'sans-serif' not found because none of the following families were found: SimHei\n",
            "findfont: Generic family 'sans-serif' not found because none of the following families were found: SimHei\n",
            "findfont: Generic family 'sans-serif' not found because none of the following families were found: SimHei\n",
            "findfont: Generic family 'sans-serif' not found because none of the following families were found: SimHei\n",
            "findfont: Generic family 'sans-serif' not found because none of the following families were found: SimHei\n",
            "findfont: Generic family 'sans-serif' not found because none of the following families were found: SimHei\n",
            "findfont: Generic family 'sans-serif' not found because none of the following families were found: SimHei\n",
            "findfont: Generic family 'sans-serif' not found because none of the following families were found: SimHei\n",
            "findfont: Generic family 'sans-serif' not found because none of the following families were found: SimHei\n",
            "findfont: Generic family 'sans-serif' not found because none of the following families were found: SimHei\n",
            "findfont: Generic family 'sans-serif' not found because none of the following families were found: SimHei\n",
            "findfont: Generic family 'sans-serif' not found because none of the following families were found: SimHei\n",
            "findfont: Generic family 'sans-serif' not found because none of the following families were found: SimHei\n",
            "findfont: Generic family 'sans-serif' not found because none of the following families were found: SimHei\n",
            "findfont: Generic family 'sans-serif' not found because none of the following families were found: SimHei\n",
            "findfont: Generic family 'sans-serif' not found because none of the following families were found: SimHei\n",
            "findfont: Generic family 'sans-serif' not found because none of the following families were found: SimHei\n",
            "findfont: Generic family 'sans-serif' not found because none of the following families were found: SimHei\n",
            "findfont: Generic family 'sans-serif' not found because none of the following families were found: SimHei\n",
            "findfont: Generic family 'sans-serif' not found because none of the following families were found: SimHei\n",
            "findfont: Generic family 'sans-serif' not found because none of the following families were found: SimHei\n",
            "findfont: Generic family 'sans-serif' not found because none of the following families were found: SimHei\n",
            "findfont: Generic family 'sans-serif' not found because none of the following families were found: SimHei\n",
            "findfont: Generic family 'sans-serif' not found because none of the following families were found: SimHei\n",
            "findfont: Generic family 'sans-serif' not found because none of the following families were found: SimHei\n",
            "findfont: Generic family 'sans-serif' not found because none of the following families were found: SimHei\n",
            "findfont: Generic family 'sans-serif' not found because none of the following families were found: SimHei\n",
            "findfont: Generic family 'sans-serif' not found because none of the following families were found: SimHei\n",
            "findfont: Generic family 'sans-serif' not found because none of the following families were found: SimHei\n",
            "findfont: Generic family 'sans-serif' not found because none of the following families were found: SimHei\n",
            "findfont: Generic family 'sans-serif' not found because none of the following families were found: SimHei\n",
            "findfont: Generic family 'sans-serif' not found because none of the following families were found: SimHei\n",
            "findfont: Generic family 'sans-serif' not found because none of the following families were found: SimHei\n",
            "findfont: Generic family 'sans-serif' not found because none of the following families were found: SimHei\n",
            "findfont: Generic family 'sans-serif' not found because none of the following families were found: SimHei\n",
            "findfont: Generic family 'sans-serif' not found because none of the following families were found: SimHei\n",
            "findfont: Generic family 'sans-serif' not found because none of the following families were found: SimHei\n"
          ]
        },
        {
          "name": "stdout",
          "output_type": "stream",
          "text": [
            "[[<Axes: title={'center': 'is_holiday'}>\n",
            "  <Axes: title={'center': 'temperature'}>\n",
            "  <Axes: title={'center': 'weekday'}>]\n",
            " [<Axes: title={'center': 'hour'}> <Axes: title={'center': 'month_day'}>\n",
            "  <Axes: title={'center': 'year'}>]\n",
            " [<Axes: title={'center': 'month'}>\n",
            "  <Axes: title={'center': 'weather_type'}>\n",
            "  <Axes: title={'center': 'weather_description'}>]]\n"
          ]
        },
        {
          "name": "stderr",
          "output_type": "stream",
          "text": [
            "findfont: Generic family 'sans-serif' not found because none of the following families were found: SimHei\n",
            "findfont: Generic family 'sans-serif' not found because none of the following families were found: SimHei\n",
            "findfont: Generic family 'sans-serif' not found because none of the following families were found: SimHei\n",
            "findfont: Generic family 'sans-serif' not found because none of the following families were found: SimHei\n",
            "findfont: Generic family 'sans-serif' not found because none of the following families were found: SimHei\n",
            "findfont: Generic family 'sans-serif' not found because none of the following families were found: SimHei\n",
            "findfont: Generic family 'sans-serif' not found because none of the following families were found: SimHei\n",
            "findfont: Generic family 'sans-serif' not found because none of the following families were found: SimHei\n",
            "findfont: Generic family 'sans-serif' not found because none of the following families were found: SimHei\n",
            "findfont: Generic family 'sans-serif' not found because none of the following families were found: SimHei\n",
            "findfont: Generic family 'sans-serif' not found because none of the following families were found: SimHei\n",
            "findfont: Generic family 'sans-serif' not found because none of the following families were found: SimHei\n",
            "findfont: Generic family 'sans-serif' not found because none of the following families were found: SimHei\n",
            "findfont: Generic family 'sans-serif' not found because none of the following families were found: SimHei\n",
            "findfont: Generic family 'sans-serif' not found because none of the following families were found: SimHei\n",
            "findfont: Generic family 'sans-serif' not found because none of the following families were found: SimHei\n",
            "findfont: Generic family 'sans-serif' not found because none of the following families were found: SimHei\n",
            "findfont: Generic family 'sans-serif' not found because none of the following families were found: SimHei\n",
            "findfont: Generic family 'sans-serif' not found because none of the following families were found: SimHei\n",
            "findfont: Generic family 'sans-serif' not found because none of the following families were found: SimHei\n",
            "findfont: Generic family 'sans-serif' not found because none of the following families were found: SimHei\n",
            "findfont: Generic family 'sans-serif' not found because none of the following families were found: SimHei\n",
            "findfont: Generic family 'sans-serif' not found because none of the following families were found: SimHei\n",
            "findfont: Generic family 'sans-serif' not found because none of the following families were found: SimHei\n",
            "findfont: Generic family 'sans-serif' not found because none of the following families were found: SimHei\n",
            "findfont: Generic family 'sans-serif' not found because none of the following families were found: SimHei\n",
            "findfont: Generic family 'sans-serif' not found because none of the following families were found: SimHei\n",
            "findfont: Generic family 'sans-serif' not found because none of the following families were found: SimHei\n",
            "findfont: Generic family 'sans-serif' not found because none of the following families were found: SimHei\n",
            "findfont: Generic family 'sans-serif' not found because none of the following families were found: SimHei\n",
            "findfont: Generic family 'sans-serif' not found because none of the following families were found: SimHei\n",
            "findfont: Generic family 'sans-serif' not found because none of the following families were found: SimHei\n",
            "findfont: Generic family 'sans-serif' not found because none of the following families were found: SimHei\n",
            "findfont: Generic family 'sans-serif' not found because none of the following families were found: SimHei\n",
            "findfont: Generic family 'sans-serif' not found because none of the following families were found: SimHei\n",
            "findfont: Generic family 'sans-serif' not found because none of the following families were found: SimHei\n",
            "findfont: Generic family 'sans-serif' not found because none of the following families were found: SimHei\n",
            "findfont: Generic family 'sans-serif' not found because none of the following families were found: SimHei\n",
            "findfont: Generic family 'sans-serif' not found because none of the following families were found: SimHei\n",
            "findfont: Generic family 'sans-serif' not found because none of the following families were found: SimHei\n",
            "findfont: Generic family 'sans-serif' not found because none of the following families were found: SimHei\n",
            "findfont: Generic family 'sans-serif' not found because none of the following families were found: SimHei\n",
            "findfont: Generic family 'sans-serif' not found because none of the following families were found: SimHei\n",
            "findfont: Generic family 'sans-serif' not found because none of the following families were found: SimHei\n",
            "findfont: Generic family 'sans-serif' not found because none of the following families were found: SimHei\n",
            "findfont: Generic family 'sans-serif' not found because none of the following families were found: SimHei\n",
            "findfont: Generic family 'sans-serif' not found because none of the following families were found: SimHei\n",
            "findfont: Generic family 'sans-serif' not found because none of the following families were found: SimHei\n",
            "findfont: Generic family 'sans-serif' not found because none of the following families were found: SimHei\n",
            "findfont: Generic family 'sans-serif' not found because none of the following families were found: SimHei\n",
            "findfont: Generic family 'sans-serif' not found because none of the following families were found: SimHei\n",
            "findfont: Generic family 'sans-serif' not found because none of the following families were found: SimHei\n",
            "findfont: Generic family 'sans-serif' not found because none of the following families were found: SimHei\n",
            "findfont: Generic family 'sans-serif' not found because none of the following families were found: SimHei\n",
            "findfont: Generic family 'sans-serif' not found because none of the following families were found: SimHei\n",
            "findfont: Generic family 'sans-serif' not found because none of the following families were found: SimHei\n",
            "findfont: Generic family 'sans-serif' not found because none of the following families were found: SimHei\n",
            "findfont: Generic family 'sans-serif' not found because none of the following families were found: SimHei\n",
            "findfont: Generic family 'sans-serif' not found because none of the following families were found: SimHei\n",
            "findfont: Generic family 'sans-serif' not found because none of the following families were found: SimHei\n",
            "findfont: Generic family 'sans-serif' not found because none of the following families were found: SimHei\n",
            "findfont: Generic family 'sans-serif' not found because none of the following families were found: SimHei\n",
            "findfont: Generic family 'sans-serif' not found because none of the following families were found: SimHei\n",
            "findfont: Generic family 'sans-serif' not found because none of the following families were found: SimHei\n",
            "findfont: Generic family 'sans-serif' not found because none of the following families were found: SimHei\n",
            "findfont: Generic family 'sans-serif' not found because none of the following families were found: SimHei\n",
            "findfont: Generic family 'sans-serif' not found because none of the following families were found: SimHei\n",
            "findfont: Generic family 'sans-serif' not found because none of the following families were found: SimHei\n",
            "findfont: Generic family 'sans-serif' not found because none of the following families were found: SimHei\n",
            "findfont: Generic family 'sans-serif' not found because none of the following families were found: SimHei\n",
            "findfont: Generic family 'sans-serif' not found because none of the following families were found: SimHei\n",
            "findfont: Generic family 'sans-serif' not found because none of the following families were found: SimHei\n",
            "findfont: Generic family 'sans-serif' not found because none of the following families were found: SimHei\n",
            "findfont: Generic family 'sans-serif' not found because none of the following families were found: SimHei\n",
            "findfont: Generic family 'sans-serif' not found because none of the following families were found: SimHei\n",
            "findfont: Generic family 'sans-serif' not found because none of the following families were found: SimHei\n",
            "findfont: Generic family 'sans-serif' not found because none of the following families were found: SimHei\n",
            "findfont: Generic family 'sans-serif' not found because none of the following families were found: SimHei\n",
            "findfont: Generic family 'sans-serif' not found because none of the following families were found: SimHei\n",
            "findfont: Generic family 'sans-serif' not found because none of the following families were found: SimHei\n",
            "findfont: Generic family 'sans-serif' not found because none of the following families were found: SimHei\n",
            "findfont: Generic family 'sans-serif' not found because none of the following families were found: SimHei\n",
            "findfont: Generic family 'sans-serif' not found because none of the following families were found: SimHei\n",
            "findfont: Generic family 'sans-serif' not found because none of the following families were found: SimHei\n",
            "findfont: Generic family 'sans-serif' not found because none of the following families were found: SimHei\n",
            "findfont: Generic family 'sans-serif' not found because none of the following families were found: SimHei\n",
            "findfont: Generic family 'sans-serif' not found because none of the following families were found: SimHei\n",
            "findfont: Generic family 'sans-serif' not found because none of the following families were found: SimHei\n",
            "findfont: Generic family 'sans-serif' not found because none of the following families were found: SimHei\n",
            "findfont: Generic family 'sans-serif' not found because none of the following families were found: SimHei\n",
            "findfont: Generic family 'sans-serif' not found because none of the following families were found: SimHei\n",
            "findfont: Generic family 'sans-serif' not found because none of the following families were found: SimHei\n",
            "findfont: Generic family 'sans-serif' not found because none of the following families were found: SimHei\n",
            "findfont: Generic family 'sans-serif' not found because none of the following families were found: SimHei\n",
            "findfont: Generic family 'sans-serif' not found because none of the following families were found: SimHei\n",
            "findfont: Generic family 'sans-serif' not found because none of the following families were found: SimHei\n",
            "findfont: Generic family 'sans-serif' not found because none of the following families were found: SimHei\n",
            "findfont: Generic family 'sans-serif' not found because none of the following families were found: SimHei\n",
            "findfont: Generic family 'sans-serif' not found because none of the following families were found: SimHei\n",
            "findfont: Generic family 'sans-serif' not found because none of the following families were found: SimHei\n",
            "findfont: Generic family 'sans-serif' not found because none of the following families were found: SimHei\n",
            "findfont: Generic family 'sans-serif' not found because none of the following families were found: SimHei\n",
            "findfont: Generic family 'sans-serif' not found because none of the following families were found: SimHei\n",
            "findfont: Generic family 'sans-serif' not found because none of the following families were found: SimHei\n",
            "findfont: Generic family 'sans-serif' not found because none of the following families were found: SimHei\n",
            "findfont: Generic family 'sans-serif' not found because none of the following families were found: SimHei\n",
            "findfont: Generic family 'sans-serif' not found because none of the following families were found: SimHei\n",
            "findfont: Generic family 'sans-serif' not found because none of the following families were found: SimHei\n",
            "findfont: Generic family 'sans-serif' not found because none of the following families were found: SimHei\n",
            "findfont: Generic family 'sans-serif' not found because none of the following families were found: SimHei\n",
            "findfont: Generic family 'sans-serif' not found because none of the following families were found: SimHei\n",
            "findfont: Generic family 'sans-serif' not found because none of the following families were found: SimHei\n",
            "findfont: Generic family 'sans-serif' not found because none of the following families were found: SimHei\n",
            "findfont: Generic family 'sans-serif' not found because none of the following families were found: SimHei\n",
            "findfont: Generic family 'sans-serif' not found because none of the following families were found: SimHei\n",
            "findfont: Generic family 'sans-serif' not found because none of the following families were found: SimHei\n",
            "findfont: Generic family 'sans-serif' not found because none of the following families were found: SimHei\n",
            "findfont: Generic family 'sans-serif' not found because none of the following families were found: SimHei\n",
            "findfont: Generic family 'sans-serif' not found because none of the following families were found: SimHei\n",
            "findfont: Generic family 'sans-serif' not found because none of the following families were found: SimHei\n",
            "findfont: Generic family 'sans-serif' not found because none of the following families were found: SimHei\n",
            "findfont: Generic family 'sans-serif' not found because none of the following families were found: SimHei\n",
            "findfont: Generic family 'sans-serif' not found because none of the following families were found: SimHei\n"
          ]
        },
        {
          "data": {
            "image/png": "[encoded data removed]",
            "text/plain": [
              "<Figure size 640x480 with 9 Axes>"
            ]
          },
          "metadata": {},
          "output_type": "display_data"
        }
      ],
      "source": [
        "print(data[features].hist(bins=20,))"
      ]
    },
    {
      "cell_type": "code",
      "execution_count": 15,
      "metadata": {
        "id": "fmbQJbngl1Cm"
      },
      "outputs": [],
      "source": [
        "# data['traffic_volume'].hist(bins=20)"
      ]
    },
    {
      "cell_type": "markdown",
      "metadata": {
        "id": "jlMn2VaklmDm"
      },
      "source": [
        "#Feature Scaling"
      ]
    },
    {
      "cell_type": "code",
      "execution_count": 16,
      "metadata": {
        "id": "uF1n7zfzlqoC"
      },
      "outputs": [],
      "source": [
        "x_scaler = MinMaxScaler()\n",
        "X = x_scaler.fit_transform(X)\n",
        "y_scaler = MinMaxScaler()\n",
        "y = y_scaler.fit_transform(y).flatten()\n",
        "warnings.filterwarnings('ignore')"
      ]
    },
    {
      "cell_type": "code",
      "execution_count": 17,
      "metadata": {
        "colab": {
          "base_uri": "https://localhost:8080/"
        },
        "id": "kYXMZO-elrd9",
        "outputId": "cc6df361-12e8-46b0-e631-68c6608de300"
      },
      "outputs": [
        {
          "name": "stdout",
          "output_type": "stream",
          "text": [
            "[[0.         0.18654822 0.         0.         0.5862069  0.2\n",
            "  0.09090909 0.14285714 0.08333333]\n",
            " [0.         0.80879865 0.         0.         1.         0.8\n",
            "  0.36363636 0.57142857 0.41666667]\n",
            " [0.         0.45791032 0.         0.         0.65517241 0.4\n",
            "  0.         0.14285714 0.5       ]\n",
            " [0.         0.91010998 0.         0.         0.13793103 0.8\n",
            "  0.72727273 1.         1.        ]\n",
            " [0.         0.90693739 0.         0.         0.37931034 0.6\n",
            "  0.81818182 0.28571429 0.33333333]]\n"
          ]
        }
      ],
      "source": [
        "print(X[:5])"
      ]
    },
    {
      "cell_type": "markdown",
      "metadata": {
        "id": "4It7y43LoIlS"
      },
      "source": [
        "#Visualization"
      ]
    },
    {
      "cell_type": "code",
      "execution_count": 18,
      "metadata": {
        "colab": {
          "base_uri": "https://localhost:8080/",
          "height": 1000
        },
        "id": "arNDfHuumYaH",
        "outputId": "68d24a32-42c9-4339-b817-f80dbd2e2df8"
      },
      "outputs": [
        {
          "name": "stderr",
          "output_type": "stream",
          "text": [
            "findfont: Generic family 'sans-serif' not found because none of the following families were found: SimHei\n",
            "findfont: Generic family 'sans-serif' not found because none of the following families were found: SimHei\n",
            "findfont: Generic family 'sans-serif' not found because none of the following families were found: SimHei\n",
            "findfont: Generic family 'sans-serif' not found because none of the following families were found: SimHei\n",
            "findfont: Generic family 'sans-serif' not found because none of the following families were found: SimHei\n",
            "findfont: Generic family 'sans-serif' not found because none of the following families were found: SimHei\n",
            "findfont: Generic family 'sans-serif' not found because none of the following families were found: SimHei\n",
            "findfont: Generic family 'sans-serif' not found because none of the following families were found: SimHei\n",
            "findfont: Generic family 'sans-serif' not found because none of the following families were found: SimHei\n",
            "findfont: Generic family 'sans-serif' not found because none of the following families were found: SimHei\n",
            "findfont: Generic family 'sans-serif' not found because none of the following families were found: SimHei\n",
            "findfont: Generic family 'sans-serif' not found because none of the following families were found: SimHei\n",
            "findfont: Generic family 'sans-serif' not found because none of the following families were found: SimHei\n",
            "findfont: Generic family 'sans-serif' not found because none of the following families were found: SimHei\n",
            "findfont: Generic family 'sans-serif' not found because none of the following families were found: SimHei\n",
            "findfont: Generic family 'sans-serif' not found because none of the following families were found: SimHei\n",
            "findfont: Generic family 'sans-serif' not found because none of the following families were found: SimHei\n",
            "findfont: Generic family 'sans-serif' not found because none of the following families were found: SimHei\n",
            "findfont: Generic family 'sans-serif' not found because none of the following families were found: SimHei\n",
            "findfont: Generic family 'sans-serif' not found because none of the following families were found: SimHei\n",
            "findfont: Generic family 'sans-serif' not found because none of the following families were found: SimHei\n",
            "findfont: Generic family 'sans-serif' not found because none of the following families were found: SimHei\n",
            "findfont: Generic family 'sans-serif' not found because none of the following families were found: SimHei\n",
            "findfont: Generic family 'sans-serif' not found because none of the following families were found: SimHei\n",
            "findfont: Generic family 'sans-serif' not found because none of the following families were found: SimHei\n",
            "findfont: Generic family 'sans-serif' not found because none of the following families were found: SimHei\n",
            "findfont: Generic family 'sans-serif' not found because none of the following families were found: SimHei\n",
            "findfont: Generic family 'sans-serif' not found because none of the following families were found: SimHei\n",
            "findfont: Generic family 'sans-serif' not found because none of the following families were found: SimHei\n",
            "findfont: Generic family 'sans-serif' not found because none of the following families were found: SimHei\n",
            "findfont: Generic family 'sans-serif' not found because none of the following families were found: SimHei\n",
            "findfont: Generic family 'sans-serif' not found because none of the following families were found: SimHei\n",
            "findfont: Generic family 'sans-serif' not found because none of the following families were found: SimHei\n",
            "findfont: Generic family 'sans-serif' not found because none of the following families were found: SimHei\n",
            "findfont: Generic family 'sans-serif' not found because none of the following families were found: SimHei\n",
            "findfont: Generic family 'sans-serif' not found because none of the following families were found: SimHei\n",
            "findfont: Generic family 'sans-serif' not found because none of the following families were found: SimHei\n",
            "findfont: Generic family 'sans-serif' not found because none of the following families were found: SimHei\n",
            "findfont: Generic family 'sans-serif' not found because none of the following families were found: SimHei\n",
            "findfont: Generic family 'sans-serif' not found because none of the following families were found: SimHei\n",
            "findfont: Generic family 'sans-serif' not found because none of the following families were found: SimHei\n",
            "findfont: Generic family 'sans-serif' not found because none of the following families were found: SimHei\n",
            "findfont: Generic family 'sans-serif' not found because none of the following families were found: SimHei\n",
            "findfont: Generic family 'sans-serif' not found because none of the following families were found: SimHei\n",
            "findfont: Generic family 'sans-serif' not found because none of the following families were found: SimHei\n",
            "findfont: Generic family 'sans-serif' not found because none of the following families were found: SimHei\n",
            "findfont: Generic family 'sans-serif' not found because none of the following families were found: SimHei\n",
            "findfont: Generic family 'sans-serif' not found because none of the following families were found: SimHei\n",
            "findfont: Generic family 'sans-serif' not found because none of the following families were found: SimHei\n",
            "findfont: Generic family 'sans-serif' not found because none of the following families were found: SimHei\n",
            "findfont: Generic family 'sans-serif' not found because none of the following families were found: SimHei\n",
            "findfont: Generic family 'sans-serif' not found because none of the following families were found: SimHei\n",
            "findfont: Generic family 'sans-serif' not found because none of the following families were found: SimHei\n",
            "findfont: Generic family 'sans-serif' not found because none of the following families were found: SimHei\n",
            "findfont: Generic family 'sans-serif' not found because none of the following families were found: SimHei\n",
            "findfont: Generic family 'sans-serif' not found because none of the following families were found: SimHei\n",
            "findfont: Generic family 'sans-serif' not found because none of the following families were found: SimHei\n",
            "findfont: Generic family 'sans-serif' not found because none of the following families were found: SimHei\n",
            "findfont: Generic family 'sans-serif' not found because none of the following families were found: SimHei\n",
            "findfont: Generic family 'sans-serif' not found because none of the following families were found: SimHei\n",
            "findfont: Generic family 'sans-serif' not found because none of the following families were found: SimHei\n",
            "findfont: Generic family 'sans-serif' not found because none of the following families were found: SimHei\n",
            "findfont: Generic family 'sans-serif' not found because none of the following families were found: SimHei\n",
            "findfont: Generic family 'sans-serif' not found because none of the following families were found: SimHei\n",
            "findfont: Generic family 'sans-serif' not found because none of the following families were found: SimHei\n",
            "findfont: Generic family 'sans-serif' not found because none of the following families were found: SimHei\n",
            "findfont: Generic family 'sans-serif' not found because none of the following families were found: SimHei\n",
            "findfont: Generic family 'sans-serif' not found because none of the following families were found: SimHei\n",
            "findfont: Generic family 'sans-serif' not found because none of the following families were found: SimHei\n",
            "findfont: Generic family 'sans-serif' not found because none of the following families were found: SimHei\n",
            "findfont: Generic family 'sans-serif' not found because none of the following families were found: SimHei\n",
            "findfont: Generic family 'sans-serif' not found because none of the following families were found: SimHei\n",
            "findfont: Generic family 'sans-serif' not found because none of the following families were found: SimHei\n",
            "findfont: Generic family 'sans-serif' not found because none of the following families were found: SimHei\n",
            "findfont: Generic family 'sans-serif' not found because none of the following families were found: SimHei\n",
            "findfont: Generic family 'sans-serif' not found because none of the following families were found: SimHei\n",
            "findfont: Generic family 'sans-serif' not found because none of the following families were found: SimHei\n",
            "findfont: Generic family 'sans-serif' not found because none of the following families were found: SimHei\n",
            "findfont: Generic family 'sans-serif' not found because none of the following families were found: SimHei\n",
            "findfont: Generic family 'sans-serif' not found because none of the following families were found: SimHei\n",
            "findfont: Generic family 'sans-serif' not found because none of the following families were found: SimHei\n",
            "findfont: Generic family 'sans-serif' not found because none of the following families were found: SimHei\n",
            "findfont: Generic family 'sans-serif' not found because none of the following families were found: SimHei\n",
            "findfont: Generic family 'sans-serif' not found because none of the following families were found: SimHei\n",
            "findfont: Generic family 'sans-serif' not found because none of the following families were found: SimHei\n",
            "findfont: Generic family 'sans-serif' not found because none of the following families were found: SimHei\n",
            "findfont: Generic family 'sans-serif' not found because none of the following families were found: SimHei\n",
            "findfont: Generic family 'sans-serif' not found because none of the following families were found: SimHei\n",
            "findfont: Generic family 'sans-serif' not found because none of the following families were found: SimHei\n",
            "findfont: Generic family 'sans-serif' not found because none of the following families were found: SimHei\n",
            "findfont: Generic family 'sans-serif' not found because none of the following families were found: SimHei\n",
            "findfont: Generic family 'sans-serif' not found because none of the following families were found: SimHei\n",
            "findfont: Generic family 'sans-serif' not found because none of the following families were found: SimHei\n",
            "findfont: Generic family 'sans-serif' not found because none of the following families were found: SimHei\n",
            "findfont: Generic family 'sans-serif' not found because none of the following families were found: SimHei\n",
            "findfont: Generic family 'sans-serif' not found because none of the following families were found: SimHei\n",
            "findfont: Generic family 'sans-serif' not found because none of the following families were found: SimHei\n",
            "findfont: Generic family 'sans-serif' not found because none of the following families were found: SimHei\n",
            "findfont: Generic family 'sans-serif' not found because none of the following families were found: SimHei\n",
            "findfont: Generic family 'sans-serif' not found because none of the following families were found: SimHei\n",
            "findfont: Generic family 'sans-serif' not found because none of the following families were found: SimHei\n",
            "findfont: Generic family 'sans-serif' not found because none of the following families were found: SimHei\n",
            "findfont: Generic family 'sans-serif' not found because none of the following families were found: SimHei\n",
            "findfont: Generic family 'sans-serif' not found because none of the following families were found: SimHei\n",
            "findfont: Generic family 'sans-serif' not found because none of the following families were found: SimHei\n",
            "findfont: Generic family 'sans-serif' not found because none of the following families were found: SimHei\n",
            "findfont: Generic family 'sans-serif' not found because none of the following families were found: SimHei\n",
            "findfont: Generic family 'sans-serif' not found because none of the following families were found: SimHei\n",
            "findfont: Generic family 'sans-serif' not found because none of the following families were found: SimHei\n",
            "findfont: Generic family 'sans-serif' not found because none of the following families were found: SimHei\n",
            "findfont: Generic family 'sans-serif' not found because none of the following families were found: SimHei\n",
            "findfont: Generic family 'sans-serif' not found because none of the following families were found: SimHei\n",
            "findfont: Generic family 'sans-serif' not found because none of the following families were found: SimHei\n",
            "findfont: Generic family 'sans-serif' not found because none of the following families were found: SimHei\n",
            "findfont: Generic family 'sans-serif' not found because none of the following families were found: SimHei\n",
            "findfont: Generic family 'sans-serif' not found because none of the following families were found: SimHei\n",
            "findfont: Generic family 'sans-serif' not found because none of the following families were found: SimHei\n",
            "findfont: Generic family 'sans-serif' not found because none of the following families were found: SimHei\n",
            "findfont: Generic family 'sans-serif' not found because none of the following families were found: SimHei\n",
            "findfont: Generic family 'sans-serif' not found because none of the following families were found: SimHei\n",
            "findfont: Generic family 'sans-serif' not found because none of the following families were found: SimHei\n",
            "findfont: Generic family 'sans-serif' not found because none of the following families were found: SimHei\n",
            "findfont: Generic family 'sans-serif' not found because none of the following families were found: SimHei\n",
            "findfont: Generic family 'sans-serif' not found because none of the following families were found: SimHei\n",
            "findfont: Generic family 'sans-serif' not found because none of the following families were found: SimHei\n",
            "findfont: Generic family 'sans-serif' not found because none of the following families were found: SimHei\n",
            "findfont: Generic family 'sans-serif' not found because none of the following families were found: SimHei\n",
            "findfont: Generic family 'sans-serif' not found because none of the following families were found: SimHei\n",
            "findfont: Generic family 'sans-serif' not found because none of the following families were found: SimHei\n",
            "findfont: Generic family 'sans-serif' not found because none of the following families were found: SimHei\n",
            "findfont: Generic family 'sans-serif' not found because none of the following families were found: SimHei\n",
            "findfont: Generic family 'sans-serif' not found because none of the following families were found: SimHei\n",
            "findfont: Generic family 'sans-serif' not found because none of the following families were found: SimHei\n",
            "findfont: Generic family 'sans-serif' not found because none of the following families were found: SimHei\n",
            "findfont: Generic family 'sans-serif' not found because none of the following families were found: SimHei\n",
            "findfont: Generic family 'sans-serif' not found because none of the following families were found: SimHei\n",
            "findfont: Generic family 'sans-serif' not found because none of the following families were found: SimHei\n",
            "findfont: Generic family 'sans-serif' not found because none of the following families were found: SimHei\n",
            "findfont: Generic family 'sans-serif' not found because none of the following families were found: SimHei\n",
            "findfont: Generic family 'sans-serif' not found because none of the following families were found: SimHei\n",
            "findfont: Generic family 'sans-serif' not found because none of the following families were found: SimHei\n",
            "findfont: Generic family 'sans-serif' not found because none of the following families were found: SimHei\n",
            "findfont: Generic family 'sans-serif' not found because none of the following families were found: SimHei\n",
            "findfont: Generic family 'sans-serif' not found because none of the following families were found: SimHei\n",
            "findfont: Generic family 'sans-serif' not found because none of the following families were found: SimHei\n",
            "findfont: Generic family 'sans-serif' not found because none of the following families were found: SimHei\n",
            "findfont: Generic family 'sans-serif' not found because none of the following families were found: SimHei\n",
            "findfont: Generic family 'sans-serif' not found because none of the following families were found: SimHei\n",
            "findfont: Generic family 'sans-serif' not found because none of the following families were found: SimHei\n",
            "findfont: Generic family 'sans-serif' not found because none of the following families were found: SimHei\n",
            "findfont: Generic family 'sans-serif' not found because none of the following families were found: SimHei\n",
            "findfont: Generic family 'sans-serif' not found because none of the following families were found: SimHei\n",
            "findfont: Generic family 'sans-serif' not found because none of the following families were found: SimHei\n",
            "findfont: Generic family 'sans-serif' not found because none of the following families were found: SimHei\n",
            "findfont: Generic family 'sans-serif' not found because none of the following families were found: SimHei\n",
            "findfont: Generic family 'sans-serif' not found because none of the following families were found: SimHei\n",
            "findfont: Generic family 'sans-serif' not found because none of the following families were found: SimHei\n",
            "findfont: Generic family 'sans-serif' not found because none of the following families were found: SimHei\n",
            "findfont: Generic family 'sans-serif' not found because none of the following families were found: SimHei\n",
            "findfont: Generic family 'sans-serif' not found because none of the following families were found: SimHei\n",
            "findfont: Generic family 'sans-serif' not found because none of the following families were found: SimHei\n",
            "findfont: Generic family 'sans-serif' not found because none of the following families were found: SimHei\n",
            "findfont: Generic family 'sans-serif' not found because none of the following families were found: SimHei\n",
            "findfont: Generic family 'sans-serif' not found because none of the following families were found: SimHei\n",
            "findfont: Generic family 'sans-serif' not found because none of the following families were found: SimHei\n",
            "findfont: Generic family 'sans-serif' not found because none of the following families were found: SimHei\n",
            "findfont: Generic family 'sans-serif' not found because none of the following families were found: SimHei\n",
            "findfont: Generic family 'sans-serif' not found because none of the following families were found: SimHei\n",
            "findfont: Generic family 'sans-serif' not found because none of the following families were found: SimHei\n",
            "findfont: Generic family 'sans-serif' not found because none of the following families were found: SimHei\n",
            "findfont: Generic family 'sans-serif' not found because none of the following families were found: SimHei\n",
            "findfont: Generic family 'sans-serif' not found because none of the following families were found: SimHei\n",
            "findfont: Generic family 'sans-serif' not found because none of the following families were found: SimHei\n",
            "findfont: Generic family 'sans-serif' not found because none of the following families were found: SimHei\n"
          ]
        },
        {
          "data": {
            "image/png": "[encoded data removed]",
            "text/plain": [
              "<Figure size 800x1600 with 4 Axes>"
            ]
          },
          "metadata": {},
          "output_type": "display_data"
        }
      ],
      "source": [
        "metrics = ['month', 'month_day', 'weekday', 'hour']\n",
        "fig = plt.figure(figsize=(8, 4*len(metrics)))\n",
        "for i, metric in enumerate(metrics):\n",
        "\tax = fig.add_subplot(len(metrics), 1, i+1)\n",
        "\tax.plot(data.groupby(metric)['traffic_volume'].mean(), '-o')\n",
        "\tax.set_xlabel(metric)\n",
        "\tax.set_ylabel(\"Mean Traffic\")\n",
        "\tax.set_title(f\"Traffic Trend by {metric}\")\n",
        "plt.tight_layout()\n",
        "plt.show()"
      ]
    },
    {
      "cell_type": "code",
      "execution_count": null,
      "metadata": {
        "id": "8IOlp3ZqjE3n"
      },
      "outputs": [],
      "source": []
    },
    {
      "cell_type": "markdown",
      "metadata": {
        "id": "qcpADogml9lD"
      },
      "source": [
        "#Train the Model"
      ]
    },
    {
      "cell_type": "code",
      "execution_count": 19,
      "metadata": {
        "colab": {
          "base_uri": "https://localhost:8080/"
        },
        "id": "w_JxqtgkmA-Q",
        "outputId": "439f6fc3-7d95-4dbd-a0e3-df172a07f472"
      },
      "outputs": [
        {
          "name": "stdout",
          "output_type": "stream",
          "text": [
            "predicted output := [0.09310128 0.59322321 0.02757198 0.57940661 0.05775263 0.23006445\n",
            " 0.9301453  0.13566216 0.34707567 0.13566216]\n",
            "Actual output := [0.09546314 0.5926276  0.02362949 0.57561437 0.036862   0.22967864\n",
            " 0.93005671 0.15122873 0.35727788 0.15122873]\n"
          ]
        }
      ],
      "source": [
        "regr = MLPRegressor(random_state=1, max_iter=500).fit(X, y)\n",
        "new = []\n",
        "print('predicted output :=',regr.predict(X[:10]))\n",
        "print('Actual output :=',y[:10])"
      ]
    },
    {
      "cell_type": "code",
      "execution_count": 20,
      "metadata": {
        "colab": {
          "base_uri": "https://localhost:8080/"
        },
        "id": "c5-VBpbNRIxI",
        "outputId": "e1b92146-97ab-4506-f240-72af61d1e20e"
      },
      "outputs": [
        {
          "name": "stdout",
          "output_type": "stream",
          "text": [
            "Mean Absolute Error: 0.007019751917189838\n"
          ]
        }
      ],
      "source": [
        "# error eval\n",
        "from sklearn.model_selection import train_test_split\n",
        "from sklearn.metrics import mean_absolute_error\n",
        "trainX, testX, trainY, testY = train_test_split(X, y, test_size=0.2)\n",
        "y_pred = regr.predict(testX)\n",
        "print('Mean Absolute Error:', mean_absolute_error(testY, y_pred))\n",
        "##############################"
      ]
    },
    {
      "cell_type": "code",
      "execution_count": 21,
      "metadata": {
        "colab": {
          "base_uri": "https://localhost:8080/"
        },
        "id": "YguC21Lcoeup",
        "outputId": "1e1cb121-2e49-4f02-bd4a-ade13a7676b1"
      },
      "outputs": [
        {
          "name": "stdout",
          "output_type": "stream",
          "text": [
            "['is_holiday', 'temperature', 'weekday', 'hour', 'month_day', 'year', 'month', 'weather_type', 'weather_description']\n"
          ]
        }
      ],
      "source": [
        "print(features)"
      ]
    },
    {
      "cell_type": "code",
      "execution_count": 22,
      "metadata": {
        "colab": {
          "base_uri": "https://localhost:8080/",
          "height": 206
        },
        "id": "8_rgNNZ5oigr",
        "outputId": "b4ee7cfb-ccd3-4c8c-d91b-0e622d006884"
      },
      "outputs": [
        {
          "data": {
            "text/html": [
              "<div>\n",
              "<style scoped>\n",
              "    .dataframe tbody tr th:only-of-type {\n",
              "        vertical-align: middle;\n",
              "    }\n",
              "\n",
              "    .dataframe tbody tr th {\n",
              "        vertical-align: top;\n",
              "    }\n",
              "\n",
              "    .dataframe thead th {\n",
              "        text-align: right;\n",
              "    }\n",
              "</style>\n",
              "<table border=\"1\" class=\"dataframe\">\n",
              "  <thead>\n",
              "    <tr style=\"text-align: right;\">\n",
              "      <th></th>\n",
              "      <th>is_holiday</th>\n",
              "      <th>temperature</th>\n",
              "      <th>weekday</th>\n",
              "      <th>hour</th>\n",
              "      <th>month_day</th>\n",
              "      <th>year</th>\n",
              "      <th>month</th>\n",
              "      <th>weather_type</th>\n",
              "      <th>weather_description</th>\n",
              "    </tr>\n",
              "  </thead>\n",
              "  <tbody>\n",
              "    <tr>\n",
              "      <th>0</th>\n",
              "      <td>1</td>\n",
              "      <td>258.96</td>\n",
              "      <td>1</td>\n",
              "      <td>0</td>\n",
              "      <td>18</td>\n",
              "      <td>2013</td>\n",
              "      <td>2</td>\n",
              "      <td>2</td>\n",
              "      <td>2</td>\n",
              "    </tr>\n",
              "    <tr>\n",
              "      <th>1</th>\n",
              "      <td>1</td>\n",
              "      <td>288.38</td>\n",
              "      <td>1</td>\n",
              "      <td>0</td>\n",
              "      <td>30</td>\n",
              "      <td>2016</td>\n",
              "      <td>5</td>\n",
              "      <td>5</td>\n",
              "      <td>6</td>\n",
              "    </tr>\n",
              "    <tr>\n",
              "      <th>2</th>\n",
              "      <td>1</td>\n",
              "      <td>271.79</td>\n",
              "      <td>1</td>\n",
              "      <td>0</td>\n",
              "      <td>20</td>\n",
              "      <td>2014</td>\n",
              "      <td>1</td>\n",
              "      <td>2</td>\n",
              "      <td>7</td>\n",
              "    </tr>\n",
              "    <tr>\n",
              "      <th>3</th>\n",
              "      <td>1</td>\n",
              "      <td>293.17</td>\n",
              "      <td>1</td>\n",
              "      <td>0</td>\n",
              "      <td>5</td>\n",
              "      <td>2016</td>\n",
              "      <td>9</td>\n",
              "      <td>8</td>\n",
              "      <td>13</td>\n",
              "    </tr>\n",
              "    <tr>\n",
              "      <th>4</th>\n",
              "      <td>1</td>\n",
              "      <td>293.02</td>\n",
              "      <td>1</td>\n",
              "      <td>0</td>\n",
              "      <td>12</td>\n",
              "      <td>2015</td>\n",
              "      <td>10</td>\n",
              "      <td>3</td>\n",
              "      <td>5</td>\n",
              "    </tr>\n",
              "  </tbody>\n",
              "</table>\n",
              "</div>"
            ],
            "text/plain": [
              "   is_holiday  temperature  weekday  hour  month_day  year  month  \\\n",
              "0           1       258.96        1     0         18  2013      2   \n",
              "1           1       288.38        1     0         30  2016      5   \n",
              "2           1       271.79        1     0         20  2014      1   \n",
              "3           1       293.17        1     0          5  2016      9   \n",
              "4           1       293.02        1     0         12  2015     10   \n",
              "\n",
              "   weather_type  weather_description  \n",
              "0             2                    2  \n",
              "1             5                    6  \n",
              "2             2                    7  \n",
              "3             8                   13  \n",
              "4             3                    5  "
            ]
          },
          "execution_count": 22,
          "metadata": {},
          "output_type": "execute_result"
        }
      ],
      "source": [
        "data[features].head(5)"
      ]
    },
    {
      "cell_type": "markdown",
      "metadata": {
        "id": "vLx7CxtioYn3"
      },
      "source": [
        "#User input"
      ]
    },
    {
      "cell_type": "code",
      "execution_count": 23,
      "metadata": {
        "colab": {
          "base_uri": "https://localhost:8080/"
        },
        "id": "uvI4vBoloYSz",
        "outputId": "938281d8-5ab0-4519-94eb-174fd61dc953"
      },
      "outputs": [
        {
          "name": "stdout",
          "output_type": "stream",
          "text": [
            "Before inverse Scaling : [653.7530797]\n"
          ]
        }
      ],
      "source": [
        "ip=[0,89,2,288.28,1,9,2,2012,10]\n",
        "ip = x_scaler.transform([ip])\n",
        "out=regr.predict(ip)\n",
        "print('Before inverse Scaling :',out)"
      ]
    },
    {
      "cell_type": "code",
      "execution_count": 24,
      "metadata": {
        "colab": {
          "base_uri": "https://localhost:8080/"
        },
        "id": "7dNibTZroYIt",
        "outputId": "c6817f46-4b5c-40e2-963b-73129400f0d5"
      },
      "outputs": [
        {
          "name": "stdout",
          "output_type": "stream",
          "text": [
            "Traffic Volume :  [[692125.75832473]]\n"
          ]
        }
      ],
      "source": [
        "y_pred = y_scaler.inverse_transform([out])\n",
        "print('Traffic Volume : ',y_pred)"
      ]
    },
    {
      "cell_type": "code",
      "execution_count": 25,
      "metadata": {
        "colab": {
          "base_uri": "https://localhost:8080/"
        },
        "id": "LO-UAQfkpXhL",
        "outputId": "a97e83f9-de01-49bf-f69c-0481ac8f4a1b"
      },
      "outputs": [
        {
          "name": "stdout",
          "output_type": "stream",
          "text": [
            "Worst case\n"
          ]
        }
      ],
      "source": [
        "if(y_pred<=1000):\n",
        "  print(\"No Traffic \")\n",
        "elif y_pred>1000 and y_pred<=3000:\n",
        "  print(\"Busy or Normal Traffic\")\n",
        "elif y_pred>3000 and y_pred<=5500:\n",
        "  print(\"heavy Traffic\")\n",
        "else:\n",
        "  print(\"Worst case\")"
      ]
    },
    {
      "cell_type": "markdown",
      "metadata": {
        "id": "UfaHUYVfrpm2"
      },
      "source": [
        "#Evaluating Metrics "
      ]
    },
    {
      "cell_type": "code",
      "execution_count": 29,
      "metadata": {
        "id": "HQA61u4Irorp"
      },
      "outputs": [],
      "source": [
        "# def relative_absolute_error(true, pred):\n",
        "#     true_mean = np.mean(true)\n",
        "#     squared_error_num = np.sum(np.abs(true - pred))\n",
        "#     squared_error_den = np.sum(np.abs(true - true_mean))\n",
        "#     rae_loss = squared_error_num / squared_error_den\n",
        "#     return rae_loss\n",
        "# def mean_bias_error(true, pred):\n",
        "#     bias_error = true - pred\n",
        "#     mbe_loss = np.mean(np.sum(diff) / true.size)\n",
        "#     return mbe_loss\n",
        "# def mean_absolute_percentage_error(true, pred):\n",
        "#     abs_error = (np.abs(true - pred)) / true\n",
        "#     sum_abs_error = np.sum(abs_error)\n",
        "#     mape_loss = (sum_abs_error / true.size) * 100\n",
        "#     return mape_loss\n",
        "# def mean_squared_error(true, pred):\n",
        "#     squared_error = np.square(true - pred) \n",
        "#     sum_squared_error = np.sum(squared_error)\n",
        "#     mse_loss = sum_squared_error / true.size\n",
        "#     return mse_loss\n",
        "# def root_mean_squared_error(true, pred):\n",
        "#     squared_error = np.square(true - pred) \n",
        "#     sum_squared_error = np.sum(squared_error)\n",
        "#     rmse_loss = np.sqrt(sum_squared_error / true.size)\n",
        "#     return rmse_loss"
      ]
    },
    {
      "cell_type": "code",
      "execution_count": 31,
      "metadata": {},
      "outputs": [
        {
          "name": "stdout",
          "output_type": "stream",
          "text": [
            "Relative Absolute Error: 0.1166666666666667\n",
            "Mean Bias Error: 0.019999999999999928\n",
            "Mean Absolute Percentage Error: 5.733333333333336\n",
            "Mean Squared Error: 0.02200000000000002\n",
            "Root Mean Squared Error: 0.14832396974191334\n"
          ]
        }
      ],
      "source": [
        "# import numpy as np\n",
        "\n",
        "# # Metric functions\n",
        "# def relative_absolute_error(true, pred):\n",
        "#     true_mean = np.mean(true)\n",
        "#     squared_error_num = np.sum(np.abs(true - pred))\n",
        "#     squared_error_den = np.sum(np.abs(true - true_mean))\n",
        "#     rae_loss = squared_error_num / squared_error_den\n",
        "#     return rae_loss\n",
        "\n",
        "# def mean_bias_error(true, pred):\n",
        "#     bias_error = true - pred\n",
        "#     mbe_loss = np.mean(np.sum(bias_error) / true.size)\n",
        "#     return mbe_loss\n",
        "\n",
        "# def mean_absolute_percentage_error(true, pred):\n",
        "#     abs_error = (np.abs(true - pred)) / true\n",
        "#     sum_abs_error = np.sum(abs_error)\n",
        "#     mape_loss = (sum_abs_error / true.size) * 100\n",
        "#     return mape_loss\n",
        "\n",
        "# def mean_squared_error(true, pred):\n",
        "#     squared_error = np.square(true - pred)\n",
        "#     sum_squared_error = np.sum(squared_error)\n",
        "#     mse_loss = sum_squared_error / true.size\n",
        "#     return mse_loss\n",
        "\n",
        "# def root_mean_squared_error(true, pred):\n",
        "#     squared_error = np.square(true - pred)\n",
        "#     sum_squared_error = np.sum(squared_error)\n",
        "#     rmse_loss = np.sqrt(sum_squared_error / true.size)\n",
        "#     return rmse_loss\n",
        "\n",
        "# # Test case\n",
        "# true_values = np.array([1, 2, 3, 4, 5])\n",
        "# pred_values = np.array([1.1, 1.9, 3.2, 3.8, 4.9])\n",
        "\n",
        "# # Print results\n",
        "# print(\"Relative Absolute Error:\", relative_absolute_error(true_values, pred_values))\n",
        "# print(\"Mean Bias Error:\", mean_bias_error(true_values, pred_values))\n",
        "# print(\"Mean Absolute Percentage Error:\", mean_absolute_percentage_error(true_values, pred_values))\n",
        "# print(\"Mean Squared Error:\", mean_squared_error(true_values, pred_values))\n",
        "# print(\"Root Mean Squared Error:\", root_mean_squared_error(true_values, pred_values))\n"
      ]
    }
  ],
  "metadata": {
    "accelerator": "GPU",
    "colab": {
      "provenance": []
    },
    "gpuClass": "standard",
    "kernelspec": {
      "display_name": "Python 3",
      "name": "python3"
    },
    "language_info": {
      "codemirror_mode": {
        "name": "ipython",
        "version": 3
      },
      "file_extension": ".py",
      "mimetype": "text/x-python",
      "name": "python",
      "nbconvert_exporter": "python",
      "pygments_lexer": "ipython3",
      "version": "3.11.3"
    }
  },
  "nbformat": 4,
  "nbformat_minor": 0
}
